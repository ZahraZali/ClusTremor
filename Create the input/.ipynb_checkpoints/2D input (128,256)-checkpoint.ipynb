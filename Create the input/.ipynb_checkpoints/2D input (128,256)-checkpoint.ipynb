{
 "cells": [
  {
   "cell_type": "code",
   "execution_count": 1,
   "id": "23f33b0e-2480-41fb-a8c1-0f6e54dc428f",
   "metadata": {},
   "outputs": [],
   "source": [
    "import librosa\n",
    "from obspy import read\n",
    "import librosa.display\n",
    "import numpy as np\n",
    "import matplotlib.pyplot as plt\n",
    "from scipy import signal\n",
    "from obspy import UTCDateTime, read, Trace, Stream\n",
    "import glob\n",
    "import obspy\n",
    "import obspy.signal\n",
    "import random"
   ]
  },
  {
   "cell_type": "code",
   "execution_count": 2,
   "id": "e5b361fe-c101-43be-9da3-665ce911db29",
   "metadata": {},
   "outputs": [],
   "source": [
    "#random STFT of the envelopes\n",
    "\n",
    "directory= '/Users/zali/study/data/iceland/Reykjanes/Reykjanes/NUPH/HHE/env8rand-stft/*.mseed'\n",
    "folder= sorted (glob.glob (directory))\n",
    "\n",
    "hop_length=225\n",
    "n_fft=win_length=512\n",
    "\n",
    "\n",
    "stft_list= []\n",
    "for file in folder:\n",
    "    st= read (file)\n",
    "    for l in range (len (st)):\n",
    "        st[l].detrend('demean')\n",
    "        st[l].filter('bandpass', freqmin=1.0, freqmax=5.0, zerophase=True)\n",
    "        st[l].data = obspy.signal.filter.envelope(st[l].data)\n",
    "        st[l].resample(8.0)\n",
    "        idx=len(st[l])- 57600 # each 2 hour will have 57600 samples= 8*60*60*2\n",
    "        if idx>0:\n",
    "            x=st[l].data\n",
    "\n",
    "            for i in range (0, 100): # 100 random STFT for each day\n",
    "                j= random.randint (0,idx) #random start time from the bigining to 2 hours before the end of the stream\n",
    "                y=x[j:j+57600].astype(float)\n",
    "                s= librosa.stft(y, n_fft= n_fft, hop_length=hop_length, win_length=win_length)\n",
    "                stft_list.append (s[2:130,1:257]) # to create the output size equal to [128, 256]\n",
    "                fig= plt.figure(figsize=(15, 5))\n",
    "                librosa.display.specshow(librosa.power_to_db(s[2:130,1:257], ref=np.max),y_axis='linear', sr=8)\n",
    "                plt.ylabel('')\n",
    "                plt.yticks (fontsize= 16)\n",
    "                cbar=plt.colorbar ()\n",
    "                cbar.ax.tick_params(labelsize=16)\n",
    "                fig.savefig ( 'randenvSTFT'+file[76:-6]+'-'+str (j) + '-' + str (l) + '.png', dpi= 100)\n",
    "                plt.close ()\n",
    "                stft= np.stack (stft_list)\n",
    "            \n",
    "    np.save('rand-envelopeSTFT[128,256]_2may-24june.npy', stft)           \n"
   ]
  },
  {
   "cell_type": "code",
   "execution_count": null,
   "id": "ea556cf0-fb15-4b99-acc4-20359df7d507",
   "metadata": {},
   "outputs": [],
   "source": [
    "# apply HPS for removing the EQs: horizontal median filtr and then a verticlal median filter with different kernel sizes\n",
    "\n",
    "hop_length=8\n",
    "win_length=n_fft=32\n",
    "new= []\n",
    "\n",
    "x = np.load('rand-envelopeSTFT[128,256]_2may-24june.npy')\n",
    "\n",
    "for i in range (0,5800):\n",
    "    \n",
    "    D_harmonic, D_percussive = librosa.decompose.hpss(x[i],kernel_size= 5,  margin=[1,1])\n",
    "    D_harmonic2, D_percussive2 = librosa.decompose.hpss(D_harmonic,kernel_size= 64,  margin=[1,1])\n",
    "\n",
    "    new.append (D_percussive2)\n",
    "    median= np.stack (new)\n",
    "np.save('med-rand-envSTFT[128,256]_2may-24june.npy', median)           "
   ]
  },
  {
   "cell_type": "code",
   "execution_count": null,
   "id": "12d112c5-43cc-4ced-b975-adcde5814bce",
   "metadata": {},
   "outputs": [],
   "source": [
    "# individual normalization\n",
    "\n",
    "norm= []\n",
    "x = np.load('med-rand-envSTFT[128,256]_2may-24june.npy')\n",
    "for i in range (0,5800):\n",
    "    \n",
    "    normcal= (x[i] - np.min(x[i])) / (np.max(x[i]) - np.min(x[i]))\n",
    "    norm.append (normcal)\n",
    "    out= np.stack (norm)\n",
    "np.save('innorm-med-rand-envSTFT[128,256]_2may-24june.npy', out)  "
   ]
  }
 ],
 "metadata": {
  "kernelspec": {
   "display_name": "Python 3 (ipykernel)",
   "language": "python",
   "name": "python3"
  },
  "language_info": {
   "codemirror_mode": {
    "name": "ipython",
    "version": 3
   },
   "file_extension": ".py",
   "mimetype": "text/x-python",
   "name": "python",
   "nbconvert_exporter": "python",
   "pygments_lexer": "ipython3",
   "version": "3.9.7"
  }
 },
 "nbformat": 4,
 "nbformat_minor": 5
}
